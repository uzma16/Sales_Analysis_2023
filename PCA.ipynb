{
 "cells": [
  {
   "attachments": {},
   "cell_type": "markdown",
   "metadata": {},
   "source": [
    "PCA stands for Principal Component Analysis. It is a dimensionality reduction technique used to transform a high-dimensional dataset into a lower-dimensional representation while retaining most of the important information.\n",
    "\n",
    "The main goal of PCA is to identify the directions (principal components) in the feature space along which the data varies the most. These principal components are orthogonal to each other and ranked in descending order of the variance they explain in the data. By selecting a subset of the top-ranked principal components, we can effectively reduce the dimensionality of the data.\n",
    "\n",
    "PCA achieves dimensionality reduction by projecting the original data onto the subspace spanned by the selected principal components. This transformation maximizes the variance of the projected data, allowing us to capture the most significant patterns and structures present in the dataset."
   ]
  },
  {
   "cell_type": "code",
   "execution_count": 1,
   "metadata": {},
   "outputs": [],
   "source": [
    "import pandas as pd"
   ]
  },
  {
   "cell_type": "code",
   "execution_count": 2,
   "metadata": {},
   "outputs": [
    {
     "name": "stderr",
     "output_type": "stream",
     "text": [
      "C:\\Users\\Dell\\AppData\\Local\\Temp\\ipykernel_1888\\621483573.py:1: DtypeWarning: Columns (10,12) have mixed types. Specify dtype option on import or set low_memory=False.\n",
      "  data=pd.read_csv('combined_data.csv')\n"
     ]
    }
   ],
   "source": [
    "data=pd.read_csv('combined_data.csv')"
   ]
  },
  {
   "cell_type": "code",
   "execution_count": 10,
   "metadata": {},
   "outputs": [
    {
     "name": "stdout",
     "output_type": "stream",
     "text": [
      "Explained variance ratio of PC1: 0.574\n",
      "Explained variance ratio of PC2: 0.426\n",
      "Transformed data:\n",
      "[[ 6.62895272  5.16238962]\n",
      " [ 3.38525163  2.2930979 ]\n",
      " [ 6.47054876  5.32079359]\n",
      " ...\n",
      " [-1.62792954  1.25441617]\n",
      " [-1.12391693  0.75040356]\n",
      " [-0.76390792  0.39039455]]\n"
     ]
    }
   ],
   "source": [
    "from sklearn.decomposition import PCA\n",
    "from sklearn.preprocessing import StandardScaler\n",
    "\n",
    "\n",
    "from sklearn.decomposition import PCA\n",
    "from sklearn.preprocessing import StandardScaler\n",
    "\n",
    "\n",
    "# Extract the columns for PCA\n",
    "columns = ['Quantity', 'Item Price']\n",
    "X = data[columns]\n",
    "\n",
    "scaler = StandardScaler()\n",
    "scaled_data = scaler.fit_transform(X)\n",
    "\n",
    "pca = PCA(n_components=2)\n",
    "\n",
    "pca.fit(scaled_data)\n",
    "\n",
    "transformed_data = pca.transform(scaled_data)\n",
    "\n",
    "principal_components = pca.components_\n",
    "explained_variance_ratio = pca.explained_variance_ratio_\n",
    "\n",
    "for i, ratio in enumerate(explained_variance_ratio):\n",
    "    print(f\"Explained variance ratio of PC{i+1}: {ratio:.3f}\")\n",
    "\n",
    "print(\"Transformed data:\")\n",
    "print(transformed_data)\n",
    "\n"
   ]
  }
 ],
 "metadata": {
  "kernelspec": {
   "display_name": "base",
   "language": "python",
   "name": "python3"
  },
  "language_info": {
   "codemirror_mode": {
    "name": "ipython",
    "version": 3
   },
   "file_extension": ".py",
   "mimetype": "text/x-python",
   "name": "python",
   "nbconvert_exporter": "python",
   "pygments_lexer": "ipython3",
   "version": "3.9.13"
  },
  "orig_nbformat": 4
 },
 "nbformat": 4,
 "nbformat_minor": 2
}
