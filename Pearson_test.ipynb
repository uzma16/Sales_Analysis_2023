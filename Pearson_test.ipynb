{
 "cells": [
  {
   "attachments": {},
   "cell_type": "markdown",
   "metadata": {},
   "source": [
    "In this file, I performed Pearson Correlation Coefficient test between different variables "
   ]
  },
  {
   "attachments": {},
   "cell_type": "markdown",
   "metadata": {},
   "source": [
    "Pearson Correlation Coefficient\n",
    "\n",
    "Pearson correlation coefficient, also known as Pearson's r or simply correlation coefficient, is a measure of the linear relationship between two continuous variables. It quantifies the strength and direction of the linear association between the variables.\n",
    "\n",
    "The Pearson correlation coefficient is a value that ranges between -1 and 1. \n",
    "\n",
    "- A coefficient of +1 indicates a perfect positive linear relationship, meaning that as one variable increases, the other variable also increases proportionally.\n",
    "- A coefficient of -1 indicates a perfect negative linear relationship, meaning that as one variable increases, the other variable decreases proportionally.\n",
    "- A coefficient of 0 indicates no linear relationship, suggesting that the variables are not linearly associated.\n",
    "\n",
    "The Pearson correlation coefficient is calculated by dividing the covariance of the two variables by the product of their standard deviations. It is sensitive to outliers and assumes that the relationship between the variables is linear.\n",
    "\n",
    "The Pearson correlation coefficient is commonly used in statistical analysis and data analytics to understand the relationship between variables. It helps in determining the strength and direction of the association, and it can be used to identify potential patterns or trends in the data.\n"
   ]
  },
  {
   "cell_type": "code",
   "execution_count": 7,
   "metadata": {},
   "outputs": [],
   "source": [
    "import pandas as pd\n",
    "import scipy.stats as stats"
   ]
  },
  {
   "cell_type": "code",
   "execution_count": 6,
   "metadata": {},
   "outputs": [],
   "source": [
    "\n",
    "data = pd.read_excel('data.xlsx')"
   ]
  },
  {
   "cell_type": "code",
   "execution_count": 8,
   "metadata": {},
   "outputs": [
    {
     "name": "stdout",
     "output_type": "stream",
     "text": [
      "Correlation Test between 'Total' and 'Item Total'\n",
      "Pearson's correlation coefficient: 0.42226280207676226\n",
      "P-Value: 0.0\n",
      "\n"
     ]
    }
   ],
   "source": [
    "# Performing correlation test to check the relation between Total & Total Item\n",
    "\n",
    "total = data['Total']\n",
    "item_total = data['Item Total']\n",
    "corr, pvalue = stats.pearsonr(total, item_total)\n",
    "print(\"Correlation Test between 'Total' and 'Item Total'\")\n",
    "print(f\"Pearson's correlation coefficient: {corr}\")\n",
    "print(f\"P-Value: {pvalue}\\n\")"
   ]
  },
  {
   "cell_type": "code",
   "execution_count": 9,
   "metadata": {},
   "outputs": [
    {
     "name": "stdout",
     "output_type": "stream",
     "text": [
      "Correlation Test between 'Total' and 'Quantity'\n",
      "Pearson's correlation coefficient: 0.3233707465023033\n",
      "P-Value: 0.0\n",
      "\n"
     ]
    }
   ],
   "source": [
    "# Performing correlation test to check the relation between Total & Quantity\n",
    "\n",
    "total = data['Total']\n",
    "quantity = data['Quantity']\n",
    "corr, pvalue = stats.pearsonr(total, quantity)\n",
    "print(\"Correlation Test between 'Total' and 'Quantity'\")\n",
    "print(f\"Pearson's correlation coefficient: {corr}\")\n",
    "print(f\"P-Value: {pvalue}\\n\")"
   ]
  },
  {
   "cell_type": "code",
   "execution_count": 10,
   "metadata": {},
   "outputs": [
    {
     "name": "stdout",
     "output_type": "stream",
     "text": [
      "Correlation Test between 'Quantity' and 'Item Total'\n",
      "Pearson's correlation coefficient: 0.7483357618926456\n",
      "P-Value: 0.0\n",
      "\n"
     ]
    }
   ],
   "source": [
    "# Performing correlation test to check the relation between Quntity & Total Item\n",
    "\n",
    "quantity = data['Quantity']\n",
    "item_total = data['Item Total']\n",
    "corr, pvalue = stats.pearsonr(quantity, item_total)\n",
    "print(\"Correlation Test between 'Quantity' and 'Item Total'\")\n",
    "print(f\"Pearson's correlation coefficient: {corr}\")\n",
    "print(f\"P-Value: {pvalue}\\n\")"
   ]
  },
  {
   "cell_type": "code",
   "execution_count": 11,
   "metadata": {},
   "outputs": [
    {
     "name": "stdout",
     "output_type": "stream",
     "text": [
      "Correlation Test between 'Item Price' and 'Item Total'\n",
      "Pearson's correlation coefficient: 0.027895509335436434\n",
      "P-Value: 2.1483599119315055e-119\n",
      "\n"
     ]
    }
   ],
   "source": [
    "# Performing correlation test to check the relation between Item Price & Total Item\n",
    "\n",
    "item_price = data['Item Price']\n",
    "item_total = data['Item Total']\n",
    "corr, pvalue = stats.pearsonr(total, item_price)\n",
    "print(\"Correlation Test between 'Item Price' and 'Item Total'\")\n",
    "print(f\"Pearson's correlation coefficient: {corr}\")\n",
    "print(f\"P-Value: {pvalue}\\n\")"
   ]
  },
  {
   "cell_type": "code",
   "execution_count": 12,
   "metadata": {},
   "outputs": [
    {
     "name": "stdout",
     "output_type": "stream",
     "text": [
      "Correlation Test between 'Invoice ID' and 'Month'\n",
      "Pearson's correlation coefficient: 0.973961240907619\n",
      "P-Value: 0.0\n",
      "\n"
     ]
    }
   ],
   "source": [
    "# Performing correlation test to check the relation between Invoice ID & Month\n",
    "\n",
    "invoice_id = data['Invoice ID']\n",
    "month = data['Month']\n",
    "corr, pvalue = stats.pearsonr(invoice_id, month)\n",
    "print(\"Correlation Test between 'Invoice ID' and 'Month'\")\n",
    "print(f\"Pearson's correlation coefficient: {corr}\")\n",
    "print(f\"P-Value: {pvalue}\\n\")"
   ]
  }
 ],
 "metadata": {
  "kernelspec": {
   "display_name": "base",
   "language": "python",
   "name": "python3"
  },
  "language_info": {
   "codemirror_mode": {
    "name": "ipython",
    "version": 3
   },
   "file_extension": ".py",
   "mimetype": "text/x-python",
   "name": "python",
   "nbconvert_exporter": "python",
   "pygments_lexer": "ipython3",
   "version": "3.9.13"
  },
  "orig_nbformat": 4
 },
 "nbformat": 4,
 "nbformat_minor": 2
}
