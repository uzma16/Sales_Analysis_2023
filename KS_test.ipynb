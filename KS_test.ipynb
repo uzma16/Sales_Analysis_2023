{
 "cells": [
  {
   "attachments": {},
   "cell_type": "markdown",
   "metadata": {},
   "source": [
    "In this file, I performed KS Correlation Coefficient test between different variables "
   ]
  },
  {
   "attachments": {},
   "cell_type": "markdown",
   "metadata": {},
   "source": [
    "The KS test, short for Kolmogorov-Smirnov test, is a statistical test used to determine whether two samples or distributions differ significantly from each other. It compares the cumulative distribution functions (CDFs) of the two samples to assess the similarity or dissimilarity between them.\n",
    "\n",
    "The KS test is a nonparametric test, meaning it does not assume any specific distribution for the data. It is commonly used when the distribution of the data is unknown or when the data is not normally distributed.\n",
    "\n",
    "The KS test calculates a test statistic called the KS statistic, which represents the maximum vertical distance between the two CDFs. Additionally, it calculates a p-value that indicates the probability of obtaining a test statistic as extreme as the one observed if the two samples are drawn from the same distribution.\n",
    "\n",
    "\n",
    "\n",
    "KS Statistic:\n",
    "\n",
    "The KS statistic, or Kolmogorov-Smirnov statistic, is a measure of the maximum difference between the cumulative distribution functions (CDFs) of two datasets.\n",
    "In the context of the KS test, the KS statistic quantifies the level of dissimilarity between two samples or datasets.\n",
    "The KS statistic ranges from 0 to 1, where a value of 0 indicates perfect similarity (the two distributions are identical), and a value of 1 indicates complete dissimilarity (the two distributions are entirely different).\n",
    "In the given output, a KS statistic of 1.0 suggests that there is a maximum difference between the CDFs of the two datasets being compared, indicating a high level of dissimilarity.\n",
    "\n",
    "\n",
    "P-Value:\n",
    "\n",
    "The p-value is a probability value that measures the evidence against the null hypothesis in a statistical test.\n",
    "In the context of the KS test, the p-value indicates the likelihood of observing the given level of dissimilarity (or a more extreme level) between the two datasets if they were actually drawn from the same underlying distribution.\n",
    "A p-value less than a chosen significance level (e.g., 0.05) suggests strong evidence to reject the null hypothesis of similarity and conclude that the two datasets are significantly different.\n",
    "In the given output, a p-value of 0.0 indicates that the observed level of dissimilarity (KS statistic of 1.0) is extremely unlikely to occur by chance if the two datasets were actually similar."
   ]
  },
  {
   "attachments": {},
   "cell_type": "markdown",
   "metadata": {},
   "source": [
    "Example"
   ]
  },
  {
   "cell_type": "code",
   "execution_count": 1,
   "metadata": {},
   "outputs": [
    {
     "name": "stdout",
     "output_type": "stream",
     "text": [
      "KS statistic: 0.6\n",
      "P-Value: 0.35714285714285715\n"
     ]
    }
   ],
   "source": [
    "from scipy import stats\n",
    "\n",
    "# Generate two sample arrays\n",
    "sample1 = [1, 2, 3, 4, 5]\n",
    "sample2 = [2, 4, 6, 8, 10]\n",
    "\n",
    "# Perform the KS test\n",
    "ks_statistic, p_value = stats.ks_2samp(sample1, sample2)\n",
    "\n",
    "# Print the KS test statistics and p-value\n",
    "print(\"KS statistic:\", ks_statistic)\n",
    "print(\"P-Value:\", p_value)\n",
    "\n"
   ]
  },
  {
   "cell_type": "code",
   "execution_count": 2,
   "metadata": {},
   "outputs": [],
   "source": [
    "import pandas as pd"
   ]
  },
  {
   "cell_type": "code",
   "execution_count": 3,
   "metadata": {},
   "outputs": [],
   "source": [
    "data=pd.read_excel('data.xlsx')"
   ]
  },
  {
   "cell_type": "code",
   "execution_count": 4,
   "metadata": {},
   "outputs": [
    {
     "name": "stdout",
     "output_type": "stream",
     "text": [
      "KS statistic: 0.8716984234354425\n",
      "P-Value: 0.0\n"
     ]
    }
   ],
   "source": [
    "invoice_id = data['Invoice ID']\n",
    "customer_id = data['Customer ID']\n",
    "\n",
    "# Perform the KS test\n",
    "ks_statistic, p_value = stats.ks_2samp(invoice_id, customer_id)\n",
    "\n",
    "# Print the KS test statistics and p-value\n",
    "print(\"KS statistic:\", ks_statistic)\n",
    "print(\"P-Value:\", p_value)"
   ]
  },
  {
   "cell_type": "code",
   "execution_count": 5,
   "metadata": {},
   "outputs": [
    {
     "name": "stdout",
     "output_type": "stream",
     "text": [
      "KS statistic: 0.9988086704560368\n",
      "P-Value: 0.0\n"
     ]
    }
   ],
   "source": [
    "total = data['Total']\n",
    "quantity = data['Quantity']\n",
    "\n",
    "# Perform the KS test\n",
    "ks_statistic, p_value = stats.ks_2samp(total, quantity)\n",
    "\n",
    "# Print the KS test statistics and p-value\n",
    "print(\"KS statistic:\", ks_statistic)\n",
    "print(\"P-Value:\", p_value)"
   ]
  },
  {
   "cell_type": "code",
   "execution_count": 6,
   "metadata": {},
   "outputs": [
    {
     "name": "stdout",
     "output_type": "stream",
     "text": [
      "KS statistic: 0.23582700048893546\n",
      "P-Value: 0.0\n"
     ]
    }
   ],
   "source": [
    "item_total = data['Item Total']\n",
    "item_price = data['Item Price']\n",
    "\n",
    "# Perform the KS test\n",
    "ks_statistic, p_value = stats.ks_2samp(item_total, item_price)\n",
    "\n",
    "# Print the KS test statistics and p-value\n",
    "print(\"KS statistic:\", ks_statistic)\n",
    "print(\"P-Value:\", p_value)"
   ]
  },
  {
   "cell_type": "code",
   "execution_count": 8,
   "metadata": {},
   "outputs": [
    {
     "name": "stdout",
     "output_type": "stream",
     "text": [
      "KS statistic: 0.9697249413349526\n",
      "P-Value: 0.0\n"
     ]
    }
   ],
   "source": [
    "total = data['Total']\n",
    "item_total = data['Item Total']\n",
    "\n",
    "# Perform the KS test\n",
    "ks_statistic, p_value = stats.ks_2samp(total, item_total)\n",
    "\n",
    "# Print the KS test statistics and p-value\n",
    "print(\"KS statistic:\", ks_statistic)\n",
    "print(\"P-Value:\", p_value)"
   ]
  },
  {
   "cell_type": "code",
   "execution_count": 9,
   "metadata": {},
   "outputs": [
    {
     "name": "stdout",
     "output_type": "stream",
     "text": [
      "KS statistic: 0.9407046728675418\n",
      "P-Value: 0.0\n"
     ]
    }
   ],
   "source": [
    "quantity = data['Quantity']\n",
    "item_price = data['Item Price']\n",
    "\n",
    "# Perform the KS test\n",
    "ks_statistic, p_value = stats.ks_2samp(quantity, item_price)\n",
    "\n",
    "# Print the KS test statistics and p-value\n",
    "print(\"KS statistic:\", ks_statistic)\n",
    "print(\"P-Value:\", p_value)"
   ]
  },
  {
   "cell_type": "code",
   "execution_count": 10,
   "metadata": {},
   "outputs": [
    {
     "name": "stdout",
     "output_type": "stream",
     "text": [
      "KS statistic: 1.0\n",
      "P-Value: 0.0\n"
     ]
    }
   ],
   "source": [
    "month = data['Month']\n",
    "invoice_id = data['Invoice ID']\n",
    "\n",
    "# Perform the KS test\n",
    "ks_statistic, p_value = stats.ks_2samp(month, invoice_id)\n",
    "\n",
    "# Print the KS test statistics and p-value\n",
    "print(\"KS statistic:\", ks_statistic)\n",
    "print(\"P-Value:\", p_value)"
   ]
  },
  {
   "attachments": {},
   "cell_type": "markdown",
   "metadata": {},
   "source": [
    "One Tailed Test"
   ]
  },
  {
   "cell_type": "code",
   "execution_count": 12,
   "metadata": {},
   "outputs": [
    {
     "name": "stdout",
     "output_type": "stream",
     "text": [
      "There is a significant positive correlation between 'Invoice ID' and 'Month'.\n"
     ]
    }
   ],
   "source": [
    "invoice_id = data['Invoice ID']\n",
    "month = data['Month']\n",
    "\n",
    "# Perform the correlation test\n",
    "correlation, p_value = stats.ks_2samp(invoice_id, month)\n",
    "\n",
    "# Set the significance level (alpha)\n",
    "alpha = 0.05\n",
    "\n",
    "# Perform one-tailed test (alternative hypothesis: correlation > 0)\n",
    "if p_value/2 < alpha and correlation > 0:\n",
    "    print(\"There is a significant positive correlation between 'Invoice ID' and 'Month'.\")\n",
    "else:\n",
    "    print(\"There is no significant positive correlation between 'Invoice ID' and 'Month'.\")"
   ]
  },
  {
   "attachments": {},
   "cell_type": "markdown",
   "metadata": {},
   "source": [
    "Two Tailed Correlation Test"
   ]
  },
  {
   "cell_type": "code",
   "execution_count": 15,
   "metadata": {},
   "outputs": [
    {
     "name": "stdout",
     "output_type": "stream",
     "text": [
      "There is a significant correlation between 'Invoice ID' and 'Customer ID'.\n"
     ]
    }
   ],
   "source": [
    "invoice_id = data['Invoice ID']\n",
    "customer_id = data['Customer ID']\n",
    "\n",
    "# Perform the correlation test\n",
    "correlation, p_value = stats.ks_2samp(invoice_id, customer_id)\n",
    "\n",
    "# Set the significance level (alpha)\n",
    "alpha = 0.05\n",
    "\n",
    "# Perform two-tailed test (alternative hypothesis: correlation != 0)\n",
    "if p_value < alpha:\n",
    "    print(\"There is a significant correlation between 'Invoice ID' and 'Customer ID'.\")\n",
    "else:\n",
    "    print(\"There is no significant correlation between 'Invoice ID' and 'Customer ID'.\")\n"
   ]
  },
  {
   "cell_type": "code",
   "execution_count": 16,
   "metadata": {},
   "outputs": [
    {
     "name": "stdout",
     "output_type": "stream",
     "text": [
      "There is a significant correlation between 'Invoice ID' and 'Month'.\n"
     ]
    }
   ],
   "source": [
    "invoice_id = data['Invoice ID']\n",
    "month = data['Month']\n",
    "\n",
    "# Perform the correlation test\n",
    "correlation, p_value = stats.ks_2samp(invoice_id, month)\n",
    "\n",
    "# Set the significance level (alpha)\n",
    "alpha = 0.05\n",
    "\n",
    "# Perform two-tailed test (alternative hypothesis: correlation != 0)\n",
    "if p_value < alpha:\n",
    "    print(\"There is a significant correlation between 'Invoice ID' and 'Month'.\")\n",
    "else:\n",
    "    print(\"There is no significant correlation between 'Invoice ID' and 'Month'.\")"
   ]
  },
  {
   "attachments": {},
   "cell_type": "markdown",
   "metadata": {},
   "source": [
    "Total and Quantity: The correlation coefficient is positive (0.323371), suggesting a positive relationship. You can perform a two-tailed test to determine if the correlation coefficient is significantly different from zero.\n",
    "\n",
    "Total and Item Total: The correlation coefficient is positive (0.422263), indicating a positive relationship. You can perform a two-tailed test to determine if the correlation coefficient is significantly different from zero.\n",
    "\n",
    "Quantity and Item Total: The correlation coefficient is positive (0.748336), indicating a strong positive relationship. You can perform a two-tailed test to determine if the correlation coefficient is significantly different from zero.\n",
    "\n",
    "Item Total and Item Price: The correlation coefficient is positive (0.039536), suggesting a positive relationship. You can perform a two-tailed test to determine if the correlation coefficient is significantly different from zero.\n",
    "\n",
    "Item Price and Month: The correlation coefficient is positive (0.100411), indicating a positive relationship. You can perform a two-tailed test to determine if the correlation coefficient is significantly different from zero."
   ]
  }
 ],
 "metadata": {
  "kernelspec": {
   "display_name": "base",
   "language": "python",
   "name": "python3"
  },
  "language_info": {
   "codemirror_mode": {
    "name": "ipython",
    "version": 3
   },
   "file_extension": ".py",
   "mimetype": "text/x-python",
   "name": "python",
   "nbconvert_exporter": "python",
   "pygments_lexer": "ipython3",
   "version": "3.9.13"
  },
  "orig_nbformat": 4
 },
 "nbformat": 4,
 "nbformat_minor": 2
}
